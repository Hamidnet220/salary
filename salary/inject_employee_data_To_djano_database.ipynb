{
 "cells": [
  {
   "cell_type": "code",
   "execution_count": 1,
   "metadata": {},
   "outputs": [],
   "source": [
    "import os\n",
    "import sys\n",
    "import django\n",
    "sys.path.append('/home/hamid/w/salary/salary')\n",
    "from salary import settings\n",
    "os.environ.setdefault(\"DJANGO_SETTINGS_MODULE\",'salary.settings')\n",
    "django.setup()\n",
    "from django.core.wsgi import get_wsgi_application\n",
    "from baseinfo import models as m\n",
    "import openpyxl"
   ]
  },
  {
   "cell_type": "code",
   "execution_count": 2,
   "metadata": {},
   "outputs": [
    {
     "data": {
      "text/plain": [
       "(<ManyToOneRel: baseinfo.bankaccount>,\n",
       " <ManyToOneRel: wage.advanceandloan>,\n",
       " <ManyToOneRel: wage.wagedetail>,\n",
       " <ManyToOneRel: attendance.worksheet>,\n",
       " <django.db.models.fields.AutoField: id>,\n",
       " <django.db.models.fields.related.ForeignKey: employer>,\n",
       " <django.db.models.fields.CharField: firstname>,\n",
       " <django.db.models.fields.CharField: lastname>,\n",
       " <django.db.models.fields.CharField: fathername>,\n",
       " <django.db.models.fields.CharField: national_code>,\n",
       " <django.db.models.fields.CharField: id_number>,\n",
       " <django.db.models.fields.CharField: insurance_id>,\n",
       " <django.db.models.fields.related.ForeignKey: gender>,\n",
       " <django.db.models.fields.related.ForeignKey: military_service>,\n",
       " <django.db.models.fields.related.ForeignKey: place_of_born>,\n",
       " <django.db.models.fields.related.ForeignKey: place_of_issu>,\n",
       " <django.db.models.fields.DateField: date_of_born>,\n",
       " <django.db.models.fields.DateField: date_of_issu>,\n",
       " <django.db.models.fields.related.ForeignKey: education_degree>,\n",
       " <django.db.models.fields.IntegerField: age>,\n",
       " <django.db.models.fields.IntegerField: experince_year>,\n",
       " <django.db.models.fields.related.ForeignKey: employee_status>,\n",
       " <django.db.models.fields.related.ForeignKey: work_place>,\n",
       " <django.db.models.fields.related.ForeignKey: post_place>,\n",
       " <django.db.models.fields.related.ForeignKey: work_status>,\n",
       " <django.db.models.fields.related.ForeignKey: marital_status>,\n",
       " <django.db.models.fields.IntegerField: children_count>,\n",
       " <django.db.models.fields.related.ForeignKey: work_group>,\n",
       " <django.db.models.fields.BooleanField: tax_exempt>,\n",
       " <django.db.models.fields.BooleanField: indsurence_exempt>,\n",
       " <django.db.models.fields.CharField: tel>,\n",
       " <django.db.models.fields.CharField: mobile>,\n",
       " <django.db.models.fields.TextField: address>,\n",
       " <django.db.models.fields.TextField: description>)"
      ]
     },
     "execution_count": 2,
     "metadata": {},
     "output_type": "execute_result"
    }
   ],
   "source": [
    "m.Employee._meta.get_fields()"
   ]
  },
  {
   "cell_type": "code",
   "execution_count": 3,
   "metadata": {},
   "outputs": [],
   "source": [
    "wb=openpyxl.load_workbook('/home/hamid/w/salary/salary/emp.xlsx',data_only=True)"
   ]
  },
  {
   "cell_type": "code",
   "execution_count": 4,
   "metadata": {},
   "outputs": [
    {
     "name": "stdout",
     "output_type": "stream",
     "text": [
      "['employees', 'djangoDatabase']\n"
     ]
    }
   ],
   "source": [
    "print(wb.sheetnames)"
   ]
  },
  {
   "cell_type": "code",
   "execution_count": 5,
   "metadata": {},
   "outputs": [],
   "source": [
    "sheet_name=wb.sheetnames[1]"
   ]
  },
  {
   "cell_type": "code",
   "execution_count": 6,
   "metadata": {},
   "outputs": [],
   "source": [
    "ws=wb[sheet_name]"
   ]
  },
  {
   "cell_type": "code",
   "execution_count": 7,
   "metadata": {},
   "outputs": [],
   "source": [
    "employer=m.Employer.objects.first()"
   ]
  },
  {
   "cell_type": "code",
   "execution_count": 8,
   "metadata": {},
   "outputs": [
    {
     "data": {
      "text/plain": [
       "<Employer: شرکت نفت و گاز اروندان>"
      ]
     },
     "execution_count": 8,
     "metadata": {},
     "output_type": "execute_result"
    }
   ],
   "source": [
    "employer"
   ]
  },
  {
   "cell_type": "code",
   "execution_count": 9,
   "metadata": {},
   "outputs": [],
   "source": [
    "employee_status=m.EmployeeStatus.objects.first()"
   ]
  },
  {
   "cell_type": "code",
   "execution_count": 10,
   "metadata": {},
   "outputs": [
    {
     "data": {
      "text/plain": [
       "<EmployeeStatus: در حال کار>"
      ]
     },
     "execution_count": 10,
     "metadata": {},
     "output_type": "execute_result"
    }
   ],
   "source": [
    "employee_status"
   ]
  },
  {
   "cell_type": "code",
   "execution_count": 19,
   "metadata": {},
   "outputs": [],
   "source": [
    "work_place=m.WorkPlace.objects.first()\n",
    "post_place=m.PostPlace.objects.first()\n",
    "work_status=m.WorkStatus.objects.first()\n",
    "marital_status=m.MaritalStatus.objects.first()\n",
    "work_group=m.WorkGroup.objects.first()\n",
    "tax_exempt=False\n",
    "indsurence_exempt=False"
   ]
  },
  {
   "cell_type": "code",
   "execution_count": 23,
   "metadata": {},
   "outputs": [
    {
     "data": {
      "text/plain": [
       "<WorkStatus: شیفت>"
      ]
     },
     "execution_count": 23,
     "metadata": {},
     "output_type": "execute_result"
    }
   ],
   "source": [
    "work_status"
   ]
  },
  {
   "cell_type": "code",
   "execution_count": 24,
   "metadata": {},
   "outputs": [],
   "source": [
    "obj={'employer':employer,'firstname':ws.cell(3,4).value,'lastname':ws.cell(3,5).value, 'fathername':ws.cell(3,6).value,\n",
    "     'national_code':ws.cell(3,7).value,'id_number':ws.cell(3,8).value,'insurance_id':ws.cell(3,9).value,'employee_status':employee_status,\n",
    "     'work_place':work_place,'post_place':post_place,'work_status':work_status,'marital_status':marital_status,'children_count':ws.cell(3,15).value,\n",
    "    'work_group':work_group,'tax_exempt':tax_exempt,'indsurence_exempt':indsurence_exempt}"
   ]
  },
  {
   "cell_type": "code",
   "execution_count": 25,
   "metadata": {},
   "outputs": [
    {
     "data": {
      "text/plain": [
       "{'employer': <Employer: شرکت نفت و گاز اروندان>,\n",
       " 'firstname': 'عباس',\n",
       " 'lastname': 'آل علي',\n",
       " 'fathername': 'اسماعيل',\n",
       " 'national_code': 1899481869,\n",
       " 'id_number': 2457,\n",
       " 'insurance_id': '0052555719',\n",
       " 'employee_status': <EmployeeStatus: در حال کار>,\n",
       " 'work_place': None,\n",
       " 'post_place': <PostPlace: دارخوین>,\n",
       " 'work_status': <WorkStatus: شیفت>,\n",
       " 'marital_status': <MaritalStatus: متاهل>,\n",
       " 'children_count': 1,\n",
       " 'work_group': <WorkGroup: گروه ۶>,\n",
       " 'tax_exempt': False,\n",
       " 'indsurence_exempt': False}"
      ]
     },
     "execution_count": 25,
     "metadata": {},
     "output_type": "execute_result"
    }
   ],
   "source": [
    "obj"
   ]
  },
  {
   "cell_type": "code",
   "execution_count": 26,
   "metadata": {},
   "outputs": [
    {
     "data": {
      "text/plain": [
       "<Employee: آل علي-عباس-1899481869>"
      ]
     },
     "execution_count": 26,
     "metadata": {},
     "output_type": "execute_result"
    }
   ],
   "source": [
    "m.Employee.objects.create(**obj)"
   ]
  },
  {
   "cell_type": "code",
   "execution_count": 28,
   "metadata": {},
   "outputs": [],
   "source": [
    "for i in range(2,435):\n",
    "    obj={'employer':employer,'firstname':ws.cell(i,4).value,'lastname':ws.cell(i,5).value, 'fathername':ws.cell(i,6).value,\n",
    "     'national_code':ws.cell(i,7).value,'id_number':ws.cell(i,8).value,'insurance_id':ws.cell(i,9).value,'employee_status':employee_status,\n",
    "     'work_place':work_place,'post_place':post_place,'work_status':work_status,'marital_status':marital_status,'children_count':ws.cell(i,15).value,\n",
    "    'work_group':work_group,'tax_exempt':tax_exempt,'indsurence_exempt':indsurence_exempt,'mobile':ws.cell(i,20).value}\n",
    "    m.Employee.objects.create(**obj)"
   ]
  },
  {
   "cell_type": "code",
   "execution_count": 165,
   "metadata": {},
   "outputs": [
    {
     "data": {
      "text/plain": [
       "(433, {'baseinfo.BankAccount': 0, 'baseinfo.Employee': 433})"
      ]
     },
     "execution_count": 165,
     "metadata": {},
     "output_type": "execute_result"
    }
   ],
   "source": [
    "m.Employee.objects.all().delete()"
   ]
  },
  {
   "cell_type": "code",
   "execution_count": null,
   "metadata": {},
   "outputs": [],
   "source": []
  }
 ],
 "metadata": {
  "kernelspec": {
   "display_name": "Python 3",
   "language": "python",
   "name": "python3"
  },
  "language_info": {
   "codemirror_mode": {
    "name": "ipython",
    "version": 3
   },
   "file_extension": ".py",
   "mimetype": "text/x-python",
   "name": "python",
   "nbconvert_exporter": "python",
   "pygments_lexer": "ipython3",
   "version": "3.7.2"
  }
 },
 "nbformat": 4,
 "nbformat_minor": 2
}
